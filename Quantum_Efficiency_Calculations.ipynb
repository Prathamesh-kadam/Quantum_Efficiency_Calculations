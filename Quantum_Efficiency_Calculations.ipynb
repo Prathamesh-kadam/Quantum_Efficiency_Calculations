{
  "nbformat": 4,
  "nbformat_minor": 0,
  "metadata": {
    "colab": {
      "provenance": [],
      "authorship_tag": "ABX9TyMJSzkhbFTs5JFEO88MaIi6",
      "include_colab_link": true
    },
    "kernelspec": {
      "name": "python3",
      "display_name": "Python 3"
    },
    "language_info": {
      "name": "python"
    }
  },
  "cells": [
    {
      "cell_type": "markdown",
      "metadata": {
        "id": "view-in-github",
        "colab_type": "text"
      },
      "source": [
        "<a href=\"https://colab.research.google.com/github/Prathamesh-kadam/Quantum_Efficiency_Calculations/blob/main/Quantum_Efficiency_Calculations.ipynb\" target=\"_parent\"><img src=\"https://colab.research.google.com/assets/colab-badge.svg\" alt=\"Open In Colab\"/></a>"
      ]
    },
    {
      "cell_type": "code",
      "execution_count": null,
      "metadata": {
        "colab": {
          "base_uri": "https://localhost:8080/"
        },
        "id": "---MEfaP7BjJ",
        "outputId": "8fd99a66-1a13-4d68-8e19-e7bec1b1a97d"
      },
      "outputs": [
        {
          "output_type": "stream",
          "name": "stdout",
          "text": [
            "Enter the bandgap energy (Eg): 1\n",
            "Absorption efficiency (η_abs): 0.999750\n"
          ]
        }
      ],
      "source": [
        "\n",
        "import pandas as pd\n",
        "import numpy as np\n",
        "\n",
        "file_path = \"/content/sample_data/astmg173 1111111.xlsx\"\n",
        "data = pd.read_excel(file_path, header=None)\n",
        "P_hw = data.iloc[:, 1].values\n",
        "\n",
        "Eg = float(input(\"Enter the bandgap energy (Eg): \"))\n",
        "hw_max = data.iloc[:, 0].max()\n",
        "numerator = np.mean(P_hw) * (hw_max - Eg)\n",
        "denominator = np.mean(P_hw) * (hw_max - 0)\n",
        "\n",
        "eta_abs = numerator / denominator\n",
        "\n",
        "print(f\"Absorption efficiency (η_abs): {eta_abs:.6f}\")"
      ]
    },
    {
      "cell_type": "code",
      "source": [
        "\n",
        "import pandas as pd\n",
        "import numpy as np\n",
        "\n",
        "file_path = \"/content/sample_data/astmg173 1111111.xlsx\"\n",
        "data = pd.read_excel(file_path, header=None)\n",
        "hw = data.iloc[:, 0].values\n",
        "P_hw = data.iloc[:, 1].values\n",
        "\n",
        "Eg = float(input(\"Enter the bandgap energy (Eg): \"))\n",
        "E = float(input(\"Enter the energy threshold (E): \"))\n",
        "P_div_hw = P_hw / hw\n",
        "\n",
        "numerator_mask = hw >= E\n",
        "denominator_mask = hw >= Eg\n",
        "\n",
        "numerator = np.sum(P_div_hw[numerator_mask] * np.diff(hw[numerator_mask], append=hw[numerator_mask][-1]))\n",
        "denominator = np.sum(P_div_hw[denominator_mask] * np.diff(hw[denominator_mask], append=hw[denominator_mask][-1]))\n",
        "\n",
        "eta_cu = numerator / denominator\n",
        "\n",
        "print(f\"Quantum efficiency of carrier utilization (η_cu): {eta_cu:.6f}\")"
      ],
      "metadata": {
        "colab": {
          "base_uri": "https://localhost:8080/"
        },
        "id": "YmWJ1RJHOrIw",
        "outputId": "f596fabf-ca59-4164-f095-82ec16330786"
      },
      "execution_count": null,
      "outputs": [
        {
          "output_type": "stream",
          "name": "stdout",
          "text": [
            "Enter the bandgap energy (Eg): 1\n",
            "Enter the energy threshold (E): 2\n",
            "Quantum efficiency of carrier utilization (η_cu): 1.000000\n"
          ]
        }
      ]
    },
    {
      "cell_type": "code",
      "source": [
        "eta_STH = eta_abs * eta_cu\n",
        "#eta_T_Q = eta_abs * eta_cu_Q\n",
        "\n",
        "# Print results\n",
        "print(f\"η_STH: {eta_STH}\")\n",
        "#print(f\"η_T^Q: {eta_T_Q}\")"
      ],
      "metadata": {
        "colab": {
          "base_uri": "https://localhost:8080/"
        },
        "id": "55fYmkUxQKUE",
        "outputId": "02c33711-d963-408b-9719-c6bfdffca6d8"
      },
      "execution_count": null,
      "outputs": [
        {
          "output_type": "stream",
          "name": "stdout",
          "text": [
            "η_STH: 0.9997499999999999\n"
          ]
        }
      ]
    }
  ]
}